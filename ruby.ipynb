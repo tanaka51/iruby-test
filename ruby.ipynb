{
 "cells": [
  {
   "cell_type": "code",
   "execution_count": 1,
   "metadata": {
    "collapsed": false
   },
   "outputs": [
    {
     "name": "stdout",
     "output_type": "stream",
     "text": [
      "hi\n"
     ]
    }
   ],
   "source": [
    "puts('hi')\n"
   ]
  },
  {
   "cell_type": "code",
   "execution_count": 2,
   "metadata": {
    "collapsed": false
   },
   "outputs": [
    {
     "name": "stdout",
     "output_type": "stream",
     "text": [
      "hi\n"
     ]
    }
   ],
   "source": [
    "puts 'hi'"
   ]
  },
  {
   "cell_type": "code",
   "execution_count": 3,
   "metadata": {
    "collapsed": false
   },
   "outputs": [
    {
     "data": {
      "text/html": [
       "<b style=\"color:green\">Hello, world!</b>"
      ],
      "text/plain": [
       "\"<b style=\\\"color:green\\\">Hello, world!</b>\""
      ]
     },
     "execution_count": 3,
     "metadata": {},
     "output_type": "execute_result"
    }
   ],
   "source": [
    "IRuby.display '<b style=\"color:green\">Hello, world!</b>', mime: 'text/html' "
   ]
  },
  {
   "cell_type": "code",
   "execution_count": 4,
   "metadata": {
    "collapsed": false
   },
   "outputs": [
    {
     "data": {
      "text/html": [
       "<table><tr><td>1</td></tr><tr><td>2</td></tr><tr><td></td></tr><tr><td>3</td></tr></table>"
      ],
      "text/plain": [
       "\"<table><tr><td>1</td></tr><tr><td>2</td></tr><tr><td></td></tr><tr><td>3</td></tr></table>\""
      ]
     },
     "execution_count": 4,
     "metadata": {},
     "output_type": "execute_result"
    },
    {
     "data": {
      "text/html": [
       "<table><tr><th>a</th><th>b</th><th>c</th></tr><tr><td>1</td><td>2</td><td>3</td></tr></table>"
      ],
      "text/plain": [
       "\"<table><tr><th>a</th><th>b</th><th>c</th></tr><tr><td>1</td><td>2</td><td>3</td></tr></table>\""
      ]
     },
     "execution_count": 4,
     "metadata": {},
     "output_type": "execute_result"
    },
    {
     "data": {
      "text/html": [
       "<table><tr><td>11</td><td>12</td><td>13</td><td>14</td></tr><tr><td>21</td><td>22</td><td>23</td><td></td></tr><tr><td colspan='4'>not an Array</td></tr><tr><td>31</td><td>32</td><td>33</td><td>34</td></tr></table>"
      ],
      "text/plain": [
       "\"<table><tr><td>11</td><td>12</td><td>13</td><td>14</td></tr><tr><td>21</td><td>22</td><td>23</td><td></td></tr><tr><td colspan='4'>not an Array</td></tr><tr><td>31</td><td>32</td><td>33</td><td>34</td></tr></table>\""
      ]
     },
     "execution_count": 4,
     "metadata": {},
     "output_type": "execute_result"
    },
    {
     "data": {
      "text/html": [
       "<table><tr><th>a</th><th>b</th><th>c</th></tr><tr><td>11</td><td>21</td><td>31</td></tr><tr><td>12</td><td>22</td><td>32</td></tr><tr><td>13</td><td>23</td><td>33</td></tr><tr><td>14</td><td></td><td>34</td></tr></table>"
      ],
      "text/plain": [
       "\"<table><tr><th>a</th><th>b</th><th>c</th></tr><tr><td>11</td><td>21</td><td>31</td></tr><tr><td>12</td><td>22</td><td>32</td></tr><tr><td>13</td><td>23</td><td>33</td></tr><tr><td>14</td><td></td><td>34</td></tr></table>\""
      ]
     },
     "execution_count": 4,
     "metadata": {},
     "output_type": "execute_result"
    },
    {
     "data": {
      "text/html": [
       "<table><tr><th>a</th><th>b</th><th>c</th><th>e</th></tr><tr><td>1</td><td>2</td><td>3</td><td></td></tr><tr><td colspan='4'>not an Array</td></tr><tr><td>2</td><td>3</td><td>4</td><td>5</td></tr></table>"
      ],
      "text/plain": [
       "\"<table><tr><th>a</th><th>b</th><th>c</th><th>e</th></tr><tr><td>1</td><td>2</td><td>3</td><td></td></tr><tr><td colspan='4'>not an Array</td></tr><tr><td>2</td><td>3</td><td>4</td><td>5</td></tr></table>\""
      ]
     },
     "execution_count": 4,
     "metadata": {},
     "output_type": "execute_result"
    },
    {
     "data": {
      "text/html": [
       "<table><tr><th>a</th><th>b</th><th>c</th><th>d</th><th>0</th><th>1</th><th>2</th></tr><tr><td>1</td><td>2</td><td>3</td><td></td><td></td><td></td><td></td></tr><tr><td>2</td><td>3</td><td>4</td><td>5</td><td></td><td></td><td></td></tr><tr><td></td><td></td><td></td><td></td><td>x</td><td>y</td><td></td></tr><tr><td></td><td></td><td></td><td></td><td>a</td><td>b</td><td>c</td></tr></table>"
      ],
      "text/plain": [
       "\"<table><tr><th>a</th><th>b</th><th>c</th><th>d</th><th>0</th><th>1</th><th>2</th></tr><tr><td>1</td><td>2</td><td>3</td><td></td><td></td><td></td><td></td></tr><tr><td>2</td><td>3</td><td>4</td><td>5</td><td></td><td></td><td></td></tr><tr><td></td><td></td><td></td><td></td><td>x</td><td>y</td><td></td></tr><tr><td></td><td></td><td></td><td></td><td>a</td><td>b</td><td>c</td></tr></table>\""
      ]
     },
     "execution_count": 4,
     "metadata": {},
     "output_type": "execute_result"
    }
   ],
   "source": [
    "IRuby.display IRuby.table([1,2,[],3])\n",
    "IRuby.display IRuby.table({a:1,b:2,c:3})\n",
    "IRuby.display IRuby.table([[11,12,13,14],[21,22,23],'not an Array',[31,32,33,34]])\n",
    "IRuby.display IRuby.table({a:[11,12,13,14],b:[21,22,23],c:[31,32,33,34]})\n",
    "IRuby.display IRuby.table([{a:1,b:2,c:3},'not an Array',{a:2,b:3,c:4,e:5}])\n",
    "IRuby.display IRuby.table([{a:1,b:2,c:3},{a:2,b:3,c:4,d:5},{0=>:x,1=>:y},[:a,:b,:c]])"
   ]
  },
  {
   "cell_type": "code",
   "execution_count": 5,
   "metadata": {
    "collapsed": false
   },
   "outputs": [
    {
     "data": {
      "text/plain": [
       "  240x300 DirectClass 16-bit"
      ]
     },
     "execution_count": 5,
     "metadata": {},
     "output_type": "execute_result"
    }
   ],
   "source": [
    "require 'RMagick'\n",
    "\n",
    "img = Magick::Image.new(240, 300)\n",
    "gc = Magick::Draw.new\n",
    "gc.fill('#FFAA00')\n",
    "\n",
    "x = 120\n",
    "y = 32.5\n",
    "gc.polygon(x,    y,     x+29, y+86,  x+109, y+86,\n",
    "           x+47, y+140, x+73, y+226, x,     y+175,\n",
    "           x-73, y+226, x-47, y+140, x-109, y+86,\n",
    "           x-29, y+86)\n",
    "\n",
    "gc.draw(img)\n",
    "\n",
    "img"
   ]
  },
  {
   "cell_type": "code",
   "execution_count": 6,
   "metadata": {
    "collapsed": false
   },
   "outputs": [
    {
     "name": "stderr",
     "output_type": "stream",
     "text": [
      "/Users/tanaka51/.rbenv/versions/2.2.2/lib/ruby/gems/2.2.0/gems/gnuplot-2.6.2/lib/gnuplot.rb:59:in `gnuplot': gnuplot executable not found on path (RuntimeError)\n",
      "\tfrom /Users/tanaka51/.rbenv/versions/2.2.2/lib/ruby/gems/2.2.0/gems/gnuplot-2.6.2/lib/gnuplot.rb:74:in `open'\n",
      "\tfrom /Users/tanaka51/.rbenv/versions/2.2.2/lib/ruby/gems/2.2.0/gems/iruby-0.1.13/lib/iruby/display.rb:222:in `block (2 levels) in <module:Registry>'\n",
      "\tfrom /Users/tanaka51/.rbenv/versions/2.2.2/lib/ruby/2.2.0/tempfile.rb:319:in `open'\n",
      "\tfrom /Users/tanaka51/.rbenv/versions/2.2.2/lib/ruby/gems/2.2.0/gems/iruby-0.1.13/lib/iruby/display.rb:219:in `block in <module:Registry>'\n",
      "\tfrom /Users/tanaka51/.rbenv/versions/2.2.2/lib/ruby/gems/2.2.0/gems/iruby-0.1.13/lib/iruby/display.rb:108:in `call'\n",
      "\tfrom /Users/tanaka51/.rbenv/versions/2.2.2/lib/ruby/gems/2.2.0/gems/iruby-0.1.13/lib/iruby/display.rb:108:in `render'\n",
      "\tfrom /Users/tanaka51/.rbenv/versions/2.2.2/lib/ruby/gems/2.2.0/gems/iruby-0.1.13/lib/iruby/display.rb:64:in `block in render'\n",
      "\tfrom /Users/tanaka51/.rbenv/versions/2.2.2/lib/ruby/gems/2.2.0/gems/iruby-0.1.13/lib/iruby/display.rb:63:in `each'\n",
      "\tfrom /Users/tanaka51/.rbenv/versions/2.2.2/lib/ruby/gems/2.2.0/gems/iruby-0.1.13/lib/iruby/display.rb:63:in `render'\n",
      "\tfrom /Users/tanaka51/.rbenv/versions/2.2.2/lib/ruby/gems/2.2.0/gems/iruby-0.1.13/lib/iruby/display.rb:24:in `display'\n",
      "\tfrom /Users/tanaka51/.rbenv/versions/2.2.2/lib/ruby/gems/2.2.0/gems/iruby-0.1.13/lib/iruby/kernel.rb:71:in `display'\n",
      "\tfrom /Users/tanaka51/.rbenv/versions/2.2.2/lib/ruby/gems/2.2.0/gems/iruby-0.1.13/lib/iruby/kernel.rb:130:in `execute_request'\n",
      "\tfrom /Users/tanaka51/.rbenv/versions/2.2.2/lib/ruby/gems/2.2.0/gems/iruby-0.1.13/lib/iruby/kernel.rb:62:in `run'\n",
      "\tfrom /Users/tanaka51/.rbenv/versions/2.2.2/lib/ruby/gems/2.2.0/gems/iruby-0.1.13/lib/iruby/command.rb:30:in `run_kernel'\n",
      "\tfrom /Users/tanaka51/.rbenv/versions/2.2.2/lib/ruby/gems/2.2.0/gems/iruby-0.1.13/lib/iruby/command.rb:16:in `run'\n",
      "\tfrom /Users/tanaka51/.rbenv/versions/2.2.2/lib/ruby/gems/2.2.0/gems/iruby-0.1.13/bin/iruby:6:in `<top (required)>'\n",
      "\tfrom /Users/tanaka51/.rbenv/versions/2.2.2/bin/iruby:23:in `load'\n",
      "\tfrom /Users/tanaka51/.rbenv/versions/2.2.2/bin/iruby:23:in `<main>'\n"
     ]
    }
   ],
   "source": [
    "require 'gnuplot'\n",
    "\n",
    "Gnuplot::Plot.new do |plot|  \n",
    "    plot.xrange '[-0.5:0.5]'\n",
    "    plot.title  'Example plot'\n",
    "    plot.ylabel 'x'\n",
    "    plot.xlabel 'sin(1/x)'\n",
    "    plot.samples 10000\n",
    "    plot.data << Gnuplot::DataSet.new('sin(1/x)') do |ds|\n",
    "        ds.with = 'lines'\n",
    "        ds.linewidth = 2\n",
    "    end\n",
    "end"
   ]
  },
  {
   "cell_type": "code",
   "execution_count": 1,
   "metadata": {
    "collapsed": false
   },
   "outputs": [
    {
     "data": {
      "text/latex": [
       "$$\\left(\\begin{array}{ccc}\n",
       "  1&2&3\\\\\n",
       "  1&2&3\\\\\n",
       "\\end{array}\\right)$$"
      ],
      "text/plain": [
       "Matrix[[1, 2, 3], [1, 2, 3]]"
      ]
     },
     "execution_count": 1,
     "metadata": {},
     "output_type": "execute_result"
    },
    {
     "name": "stderr",
     "output_type": "stream",
     "text": [
      "/Users/tanaka51/.rbenv/versions/2.2.2/lib/ruby/gems/2.2.0/gems/ffi-rzmq-2.0.4/lib/ffi-rzmq/message.rb:187:in `zmq_msg_close'"
     ]
    }
   ],
   "source": [
    "require 'matrix'\n",
    "Matrix[[1,2,3],[1,2,3]]"
   ]
  },
  {
   "cell_type": "code",
   "execution_count": null,
   "metadata": {
    "collapsed": true
   },
   "outputs": [],
   "source": []
  }
 ],
 "metadata": {
  "kernelspec": {
   "display_name": "Python 3",
   "language": "python",
   "name": "python3"
  },
  "language_info": {
   "name": "ruby",
   "version": "2.2.2"
  }
 },
 "nbformat": 4,
 "nbformat_minor": 0
}
